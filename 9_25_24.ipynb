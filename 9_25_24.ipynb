{
  "nbformat": 4,
  "nbformat_minor": 0,
  "metadata": {
    "colab": {
      "provenance": [],
      "authorship_tag": "ABX9TyN9JbVdNxS94aef5I7suZwb",
      "include_colab_link": true
    },
    "kernelspec": {
      "name": "python3",
      "display_name": "Python 3"
    },
    "language_info": {
      "name": "python"
    }
  },
  "cells": [
    {
      "cell_type": "markdown",
      "metadata": {
        "id": "view-in-github",
        "colab_type": "text"
      },
      "source": [
        "<a href=\"https://colab.research.google.com/github/sdasilvas/NGG6050/blob/main/9_25_24.ipynb\" target=\"_parent\"><img src=\"https://colab.research.google.com/assets/colab-badge.svg\" alt=\"Open In Colab\"/></a>"
      ]
    },
    {
      "cell_type": "markdown",
      "source": [
        "1"
      ],
      "metadata": {
        "id": "xbzZaAD0KD3A"
      }
    },
    {
      "cell_type": "code",
      "source": [
        "import matplotlib.pyplot as plt\n",
        "\n",
        "# Data\n",
        "wing_length = [10.4, 10.8, 11.1, 10.2, 10.3, 10.2, 10.7, 10.5, 10.8, 11.2, 10.6, 11.4]\n",
        "tail_length = [7.4, 7.6, 7.9, 7.2, 7.4, 7.1, 7.4, 7.2, 7.8, 7.7, 7.8, 8.3]\n",
        "\n",
        "# Create scatter plot\n",
        "plt.scatter(wing_length, tail_length, color='blue', marker='o')\n",
        "\n",
        "# Add titles and labels\n",
        "plt.title('Wing Length vs. Tail Length')\n",
        "plt.xlabel('Wing Length (cm)')\n",
        "plt.ylabel('Tail Length (cm)')\n",
        "\n",
        "# Show grid\n",
        "plt.grid()\n",
        "\n",
        "# Display the plot\n",
        "plt.show()"
      ],
      "metadata": {
        "colab": {
          "base_uri": "https://localhost:8080/",
          "height": 472
        },
        "id": "IXL6lpsCKEZc",
        "outputId": "a535502f-4d0a-4a32-cfee-0f0cc4602904"
      },
      "execution_count": 1,
      "outputs": [
        {
          "output_type": "display_data",
          "data": {
            "text/plain": [
              "<Figure size 640x480 with 1 Axes>"
            ],
            "image/png": "[encoded data removed]"
          },
          "metadata": {}
        }
      ]
    },
    {
      "cell_type": "markdown",
      "source": [
        "2"
      ],
      "metadata": {
        "id": "rU4Ldab4Ng5q"
      }
    },
    {
      "cell_type": "code",
      "source": [
        "import numpy as np\n",
        "\n",
        "# Data\n",
        "X = np.array([10.4, 10.8, 11.1, 10.2, 10.3, 10.2, 10.7, 10.5, 10.8, 11.2, 10.6, 11.4])\n",
        "Y = np.array([7.4, 7.6, 7.9, 7.2, 7.4, 7.1, 7.4, 7.2, 7.8, 7.7, 7.8, 8.3])\n",
        "\n",
        "# Number of pairs\n",
        "n = len(X)\n",
        "\n",
        "# Calculate sums\n",
        "sum_X = np.sum(X)\n",
        "sum_Y = np.sum(Y)\n",
        "sum_XY = np.sum(X * Y)\n",
        "sum_X2 = np.sum(X**2)\n",
        "sum_Y2 = np.sum(Y**2)\n",
        "\n",
        "# Calculate r_X,Y\n",
        "r_XY = (n * sum_XY - sum_X * sum_Y) / np.sqrt((n * sum_X2 - sum_X**2) * (n * sum_Y2 - sum_Y**2))\n",
        "r_squared_XY = r_XY**2\n",
        "\n",
        "# Calculate r_Y,X (same as r_X,Y)\n",
        "r_YX = r_XY  # or use the same formula, since it's symmetric\n",
        "r_squared_YX = r_YX**2\n",
        "\n",
        "# Display results\n",
        "print(\"Manual Calculation:\")\n",
        "print(f\"r_XY: {r_XY:.4f}, r^2_XY: {r_squared_XY:.4f}\")\n",
        "print(f\"r_YX: {r_YX:.4f}, r^2_YX: {r_squared_YX:.4f}\")\n",
        "\n",
        "# Using numpy function\n",
        "r_matrix = np.corrcoef(X, Y)\n",
        "r_numpy_XY = r_matrix[0, 1]\n",
        "r_numpy_YX = r_matrix[1, 0]  # This will be the same\n",
        "\n",
        "# Display numpy results\n",
        "print(\"Using numpy corrcoef:\")\n",
        "print(f\"r_XY: {r_numpy_XY:.4f}, r^2_XY: {r_numpy_XY**2:.4f}\")\n",
        "print(f\"r_YX: {r_numpy_YX:.4f}, r^2_YX: {r_numpy_YX**2:.4f}\")"
      ],
      "metadata": {
        "colab": {
          "base_uri": "https://localhost:8080/"
        },
        "id": "i5lTwutiK44d",
        "outputId": "0c24d5da-70c7-4d1d-d477-1f82c2c89735"
      },
      "execution_count": 3,
      "outputs": [
        {
          "output_type": "stream",
          "name": "stdout",
          "text": [
            "Manual Calculation:\n",
            "r_XY: 0.8704, r^2_XY: 0.7575\n",
            "r_YX: 0.8704, r^2_YX: 0.7575\n",
            "Using numpy corrcoef:\n",
            "r_XY: 0.8704, r^2_XY: 0.7575\n",
            "r_YX: 0.8704, r^2_YX: 0.7575\n"
          ]
        }
      ]
    },
    {
      "cell_type": "markdown",
      "source": [
        "3"
      ],
      "metadata": {
        "id": "aV9D8D9LLiis"
      }
    },
    {
      "cell_type": "code",
      "source": [
        "import numpy as np\n",
        "\n",
        "# Data\n",
        "X = np.array([10.4, 10.8, 11.1, 10.2, 10.3, 10.2, 10.7, 10.5, 10.8, 11.2, 10.6, 11.4])\n",
        "Y = np.array([7.4, 7.6, 7.9, 7.2, 7.4, 7.1, 7.4, 7.2, 7.8, 7.7, 7.8, 8.3])\n",
        "\n",
        "# Number of pairs\n",
        "n = len(X)\n",
        "\n",
        "# Calculate sums and correlation\n",
        "r_XY = np.corrcoef(X, Y)[0, 1]\n",
        "\n",
        "# Calculate standard error\n",
        "SE = np.sqrt((1 - r_XY**2) / (n - 2))\n",
        "\n",
        "# Fisher transformation\n",
        "z = 0.5 * np.log((1 + r_XY) / (1 - r_XY))\n",
        "SE_z = 1 / np.sqrt(n - 3)\n",
        "\n",
        "# Confidence intervals in z space\n",
        "z_lower = z - 1.96 * SE_z\n",
        "z_upper = z + 1.96 * SE_z\n",
        "\n",
        "# Transform back to correlation coefficient space\n",
        "r_lower = (np.exp(2 * z_lower) - 1) / (np.exp(2 * z_lower) + 1)\n",
        "r_upper = (np.exp(2 * z_upper) - 1) / (np.exp(2 * z_upper) + 1)\n",
        "\n",
        "# Display results\n",
        "print(\"Standard Error of r_XY:\", SE)\n",
        "print(\"95% Confidence Interval for r_XY: [{:.4f}, {:.4f}]\".format(r_lower, r_upper))"
      ],
      "metadata": {
        "colab": {
          "base_uri": "https://localhost:8080/"
        },
        "id": "9d9KJMcMLjF3",
        "outputId": "71038e61-dd5e-4783-ac38-4e3cb4d4ecf5"
      },
      "execution_count": 4,
      "outputs": [
        {
          "output_type": "stream",
          "name": "stdout",
          "text": [
            "Standard Error of r_XY: 0.15571863652567375\n",
            "95% Confidence Interval for r_XY: [0.5923, 0.9632]\n"
          ]
        }
      ]
    },
    {
      "cell_type": "markdown",
      "source": [
        "4"
      ],
      "metadata": {
        "id": "EnrjDFZyL6OD"
      }
    },
    {
      "cell_type": "code",
      "source": [
        "from scipy import stats\n",
        "\n",
        "# Calculate the test statistic\n",
        "t = (r_XY * np.sqrt(n - 2)) / np.sqrt(1 - r_XY**2)\n",
        "\n",
        "# Degrees of freedom\n",
        "df = n - 2\n",
        "\n",
        "# Calculate the two-tailed p-value\n",
        "p_value = 2 * (1 - stats.t.cdf(np.abs(t), df))\n",
        "\n",
        "# Display results\n",
        "print(f\"Test statistic (t): {t:.4f}\")\n",
        "print(f\"Degrees of freedom: {df}\")\n",
        "print(f\"p-value: {p_value:.4f}\")\n",
        "\n",
        "# Check significance\n",
        "if p_value < 0.05:\n",
        "    print(\"Reject the null hypothesis: r_XY is statistically significant at the p < 0.05 level.\")\n",
        "else:\n",
        "    print(\"Fail to reject the null hypothesis: r_XY is not statistically significant.\")"
      ],
      "metadata": {
        "colab": {
          "base_uri": "https://localhost:8080/"
        },
        "id": "77qEzV7ML6nG",
        "outputId": "1ab7cc5e-169a-4b21-a00a-d101c79a322b"
      },
      "execution_count": 5,
      "outputs": [
        {
          "output_type": "stream",
          "name": "stdout",
          "text": [
            "Test statistic (t): 5.5893\n",
            "Degrees of freedom: 10\n",
            "p-value: 0.0002\n",
            "Reject the null hypothesis: r_XY is statistically significant at the p < 0.05 level.\n"
          ]
        }
      ]
    },
    {
      "cell_type": "markdown",
      "source": [
        "5"
      ],
      "metadata": {
        "id": "iOUSnA0SMVG5"
      }
    },
    {
      "cell_type": "code",
      "source": [
        "# Yale's correlation value\n",
        "r_Yale = 0.75\n",
        "n = 12  # Assuming same sample size\n",
        "\n",
        "# Calculate the test statistic for Yale\n",
        "t_Yale = (r_Yale * np.sqrt(n - 2)) / np.sqrt(1 - r_Yale**2)\n",
        "\n",
        "# Degrees of freedom\n",
        "df_Yale = n - 2\n",
        "\n",
        "# Calculate the two-tailed p-value for Yale\n",
        "p_value_Yale = 2 * (1 - stats.t.cdf(np.abs(t_Yale), df_Yale))\n",
        "\n",
        "# Display results\n",
        "print(f\"Yale's Test Statistic (t): {t_Yale:.4f}\")\n",
        "print(f\"Yale's Degrees of Freedom: {df_Yale}\")\n",
        "print(f\"Yale's p-value: {p_value_Yale:.4f}\")\n",
        "\n",
        "# Check significance\n",
        "if p_value_Yale < 0.05:\n",
        "    print(\"Reject the null hypothesis: Yale's r is statistically significant at the p < 0.05 level.\")\n",
        "else:\n",
        "    print(\"Fail to reject the null hypothesis: Yale's r is not statistically significant.\")"
      ],
      "metadata": {
        "colab": {
          "base_uri": "https://localhost:8080/"
        },
        "id": "o95jMbMYMVeI",
        "outputId": "a53e74c1-b872-44bf-d7c3-4b365abfb1ef"
      },
      "execution_count": 6,
      "outputs": [
        {
          "output_type": "stream",
          "name": "stdout",
          "text": [
            "Yale's Test Statistic (t): 3.5857\n",
            "Yale's Degrees of Freedom: 10\n",
            "Yale's p-value: 0.0050\n",
            "Reject the null hypothesis: Yale's r is statistically significant at the p < 0.05 level.\n"
          ]
        }
      ]
    },
    {
      "cell_type": "markdown",
      "source": [
        "6"
      ],
      "metadata": {
        "id": "0ptCN-l0M7WK"
      }
    },
    {
      "cell_type": "code",
      "source": [
        "import numpy as np\n",
        "import scipy.stats as stats\n",
        "\n",
        "# Desired correlation\n",
        "r_true = 0.5\n",
        "alpha = 0.05\n",
        "desired_power = 0.8\n",
        "\n",
        "# Fisher's Z transformation for r = 0 and r = 0.5\n",
        "z0 = 0  # For r = 0\n",
        "z_r = 0.5 * np.log((1 + r_true) / (1 - r_true))  # For r = 0.5\n",
        "\n",
        "# Z-score for alpha level\n",
        "z_alpha = stats.norm.ppf(1 - alpha / 2)  # Two-tailed\n",
        "\n",
        "# Calculate required sample size\n",
        "def required_sample_size(power, z_r, z0, z_alpha):\n",
        "    n = 3 + ((z_alpha + (z_r - z0))**2) / (power**2)\n",
        "    return np.ceil(n)\n",
        "\n",
        "# Calculate sample size\n",
        "sample_size = required_sample_size(desired_power, z_r, z0, z_alpha)\n",
        "\n",
        "# Calculate the statistical power for the calculated sample size\n",
        "n = int(sample_size)\n",
        "SE = 1 / np.sqrt(n - 3)\n",
        "power_calculated = stats.norm.cdf(z_alpha - (z_r - z0) / SE)\n",
        "\n",
        "# Display results\n",
        "print(f\"Required sample size to achieve {desired_power:.2f} power: {sample_size:.0f}\")\n",
        "print(f\"Calculated power with sample size {sample_size}: {power_calculated:.4f}\")"
      ],
      "metadata": {
        "colab": {
          "base_uri": "https://localhost:8080/"
        },
        "id": "2sJwOuudM7yz",
        "outputId": "c1a94c96-3879-48f8-d0e5-69df44e9c16e"
      },
      "execution_count": 8,
      "outputs": [
        {
          "output_type": "stream",
          "name": "stdout",
          "text": [
            "Required sample size to achieve 0.80 power: 13\n",
            "Calculated power with sample size 13.0: 0.5882\n"
          ]
        }
      ]
    }
  ]
}